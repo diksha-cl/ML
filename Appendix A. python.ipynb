{
 "cells": [
  {
   "cell_type": "code",
   "execution_count": 1,
   "metadata": {},
   "outputs": [
    {
     "name": "stdout",
     "output_type": "stream",
     "text": [
      "<class 'int'> <class 'float'> <class 'str'> <class 'bool'>\n"
     ]
    }
   ],
   "source": [
    "x = 1\n",
    "y = 2.3\n",
    "z = \"str\"\n",
    "b = True # False\n",
    "print(type(x), type(y), type(z), type(b))"
   ]
  },
  {
   "cell_type": "code",
   "execution_count": 2,
   "metadata": {},
   "outputs": [
    {
     "name": "stdout",
     "output_type": "stream",
     "text": [
      "str1str2\n"
     ]
    }
   ],
   "source": [
    "xyz = \"str1\" + \"str2\"\n",
    "print(xyz)"
   ]
  },
  {
   "cell_type": "code",
   "execution_count": 3,
   "metadata": {},
   "outputs": [],
   "source": [
    "x = [1, 2, 3]\n",
    "y = [\"a\", 2, 3.6]"
   ]
  },
  {
   "cell_type": "code",
   "execution_count": 4,
   "metadata": {},
   "outputs": [
    {
     "name": "stdout",
     "output_type": "stream",
     "text": [
      "['b', 2, 3.6]\n"
     ]
    }
   ],
   "source": [
    "y = [\"a\", 2, 3.6]\n",
    "y[0] = \"b\"\n",
    "print(y)"
   ]
  },
  {
   "cell_type": "code",
   "execution_count": 5,
   "metadata": {},
   "outputs": [
    {
     "name": "stdout",
     "output_type": "stream",
     "text": [
      "['Bhuvaneshwar', 'Shami', 'Yadav', 'Bumrah']\n"
     ]
    }
   ],
   "source": [
    "y = [\"Bhuvaneshwar\", \"Shami\", \"Yadav\"]\n",
    "y.append(\"Bumrah\")\n",
    "print(y)"
   ]
  },
  {
   "cell_type": "code",
   "execution_count": 6,
   "metadata": {},
   "outputs": [
    {
     "name": "stdout",
     "output_type": "stream",
     "text": [
      "['Irfan', 'Ashwin', 'Bhuvaneshwar', 'Shami', 'Yadav', 'Bumrah']\n"
     ]
    }
   ],
   "source": [
    "x = [\"Irfan\", \"Ashwin\"]\n",
    "z = x + y\n",
    "print(z)"
   ]
  },
  {
   "cell_type": "code",
   "execution_count": 7,
   "metadata": {},
   "outputs": [
    {
     "name": "stdout",
     "output_type": "stream",
     "text": [
      "6\n"
     ]
    }
   ],
   "source": [
    "print(len(z))"
   ]
  },
  {
   "cell_type": "code",
   "execution_count": 8,
   "metadata": {},
   "outputs": [
    {
     "name": "stdout",
     "output_type": "stream",
     "text": [
      "[1, 2, 3]\n",
      "[0, 1, 2, 3]\n",
      "[4, 5, 6, 7, 8, 9]\n"
     ]
    }
   ],
   "source": [
    "y = [0, 1, 2, 3, 4, 5, 6, 7, 8, 9]\n",
    "print(y[1:4])\n",
    "print(y[:4])\n",
    "print(y[4:])"
   ]
  },
  {
   "cell_type": "code",
   "execution_count": 9,
   "metadata": {},
   "outputs": [
    {
     "name": "stdout",
     "output_type": "stream",
     "text": [
      "a\n",
      "b\n",
      "c\n"
     ]
    }
   ],
   "source": [
    "s = [\"a\", \"b\", \"c\"]\n",
    "for i in s:\n",
    "    print(i)"
   ]
  },
  {
   "cell_type": "code",
   "execution_count": 10,
   "metadata": {},
   "outputs": [
    {
     "name": "stdout",
     "output_type": "stream",
     "text": [
      "a_\n",
      "b_\n",
      "c_\n",
      "outside\n"
     ]
    }
   ],
   "source": [
    "s = [\"a\", \"b\", \"c\"]\n",
    "for i in s:\n",
    "    x = i + \"_\"\n",
    "    print(x)\n",
    "print(\"outside\")"
   ]
  },
  {
   "cell_type": "code",
   "execution_count": 11,
   "metadata": {},
   "outputs": [
    {
     "name": "stdout",
     "output_type": "stream",
     "text": [
      "0\n",
      "1\n",
      "2\n",
      "3\n",
      "4\n"
     ]
    }
   ],
   "source": [
    "start = 0\n",
    "stop = 5\n",
    "step = 1 \n",
    "for i in range(start, stop, step):\n",
    "    print(i)"
   ]
  },
  {
   "cell_type": "code",
   "execution_count": 12,
   "metadata": {},
   "outputs": [
    {
     "name": "stdout",
     "output_type": "stream",
     "text": [
      "10 is small\n"
     ]
    }
   ],
   "source": [
    "x = 10\n",
    "c = 100\n",
    "if (x < c):\n",
    "    print(x, \"is small\")\n",
    "else:\n",
    "    print(x, \"is big\")"
   ]
  },
  {
   "cell_type": "code",
   "execution_count": 13,
   "metadata": {},
   "outputs": [
    {
     "name": "stdout",
     "output_type": "stream",
     "text": [
      "Subhrajit\n"
     ]
    }
   ],
   "source": [
    "x = {\"Name\": \"Subhrajit\",\n",
    "    \"Phone\": 9999900000,\n",
    "    \"Address\": \"Bangalore\"}\n",
    "print(x[\"Name\"])"
   ]
  },
  {
   "cell_type": "code",
   "execution_count": 14,
   "metadata": {},
   "outputs": [
    {
     "name": "stdout",
     "output_type": "stream",
     "text": [
      "True\n",
      "False\n"
     ]
    }
   ],
   "source": [
    "x[\"Company\"] = \"CareerLauncher\"\n",
    "del x[\"Phone\"]\n",
    "print(\"Company\" in x)\n",
    "print(\"Phone\" in x)"
   ]
  },
  {
   "cell_type": "code",
   "execution_count": 15,
   "metadata": {},
   "outputs": [
    {
     "name": "stdout",
     "output_type": "stream",
     "text": [
      "Name : Subhrajit\n",
      "Phone : 9999900000\n",
      "Address : Bangalore\n"
     ]
    }
   ],
   "source": [
    "x = {\"Name\": \"Subhrajit\",\n",
    "    \"Phone\": 9999900000,\n",
    "    \"Address\": \"Bangalore\"}\n",
    "\n",
    "for key in x.keys():\n",
    "    print(key, \":\", x[key])"
   ]
  },
  {
   "cell_type": "code",
   "execution_count": 16,
   "metadata": {},
   "outputs": [
    {
     "name": "stdout",
     "output_type": "stream",
     "text": [
      "9999900000\n"
     ]
    }
   ],
   "source": [
    "record = (\"Subhrajit\", 9999900000, \"Bangalore\")\n",
    "print(record[1])"
   ]
  },
  {
   "cell_type": "code",
   "execution_count": 17,
   "metadata": {},
   "outputs": [
    {
     "name": "stdout",
     "output_type": "stream",
     "text": [
      "Bangalore\n"
     ]
    }
   ],
   "source": [
    "def dummy_function():\n",
    "    name = \"subhrajit\"\n",
    "    number = \"9999999999\"\n",
    "    city = \"Bangalore\"\n",
    "    \n",
    "    return (name, number, city)\n",
    "\n",
    "fn_ret_vals = dummy_function()\n",
    "name, phone, city = fn_ret_vals\n",
    "print(city)"
   ]
  },
  {
   "cell_type": "code",
   "execution_count": 18,
   "metadata": {},
   "outputs": [],
   "source": [
    "def complexMathFn(x, y):\n",
    "    z = x**2 + y - 10\n",
    "    return z"
   ]
  },
  {
   "cell_type": "code",
   "execution_count": 19,
   "metadata": {},
   "outputs": [
    {
     "name": "stdout",
     "output_type": "stream",
     "text": [
      "-3\n"
     ]
    }
   ],
   "source": [
    "res1 = complexMathFn(2, 3)\n",
    "print(res1)"
   ]
  },
  {
   "cell_type": "code",
   "execution_count": 20,
   "metadata": {},
   "outputs": [
    {
     "name": "stdout",
     "output_type": "stream",
     "text": [
      "1\n"
     ]
    }
   ],
   "source": [
    "res2 = complexMathFn(3, 2)\n",
    "print(res2)"
   ]
  },
  {
   "cell_type": "code",
   "execution_count": null,
   "metadata": {},
   "outputs": [],
   "source": []
  }
 ],
 "metadata": {
  "kernelspec": {
   "display_name": "Python 3",
   "language": "python",
   "name": "python3"
  },
  "language_info": {
   "codemirror_mode": {
    "name": "ipython",
    "version": 3
   },
   "file_extension": ".py",
   "mimetype": "text/x-python",
   "name": "python",
   "nbconvert_exporter": "python",
   "pygments_lexer": "ipython3",
   "version": "3.7.3"
  }
 },
 "nbformat": 4,
 "nbformat_minor": 2
}
