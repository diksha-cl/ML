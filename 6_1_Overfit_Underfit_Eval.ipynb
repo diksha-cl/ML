{
  "nbformat": 4,
  "nbformat_minor": 0,
  "metadata": {
    "kernelspec": {
      "display_name": "Python 3",
      "language": "python",
      "name": "python3"
    },
    "language_info": {
      "codemirror_mode": {
        "name": "ipython",
        "version": 3
      },
      "file_extension": ".py",
      "mimetype": "text/x-python",
      "name": "python",
      "nbconvert_exporter": "python",
      "pygments_lexer": "ipython3",
      "version": "3.7.3"
    },
    "colab": {
      "name": "6.1_Overfit_Underfit_Eval.ipynb",
      "provenance": []
    }
  },
  "cells": [
    {
      "cell_type": "markdown",
      "metadata": {
        "id": "j8NInRZgnbF0",
        "colab_type": "text"
      },
      "source": [
        "# Polynomial Regression -Overfitting\n",
        "\n",
        "What if your data is actually more complex than a simple straight line? Surprisingly,\n",
        "you can actually use a linear model to fit nonlinear data. A simple way to do this is to\n",
        "add powers of each feature as new features, then train a linear model on this extended\n",
        "set of features. This technique is called Polynomial Regression"
      ]
    },
    {
      "cell_type": "code",
      "metadata": {
        "id": "bNi8HuIrnbF5",
        "colab_type": "code",
        "colab": {}
      },
      "source": [
        "# Some useful Imports\n",
        "\n",
        "import numpy as np\n",
        "import numpy.random as rnd\n",
        "import matplotlib.pyplot as plt\n",
        "%matplotlib inline\n",
        "np.random.seed(42)\n",
        "from sklearn.preprocessing import PolynomialFeatures\n",
        "from sklearn.linear_model import LinearRegression"
      ],
      "execution_count": null,
      "outputs": []
    },
    {
      "cell_type": "markdown",
      "metadata": {
        "id": "CSkRS46GnbGI",
        "colab_type": "text"
      },
      "source": [
        "$y = 2 + X + 0.5 * X^2 + noise$"
      ]
    },
    {
      "cell_type": "code",
      "metadata": {
        "id": "pVX4vxpJnbGK",
        "colab_type": "code",
        "colab": {}
      },
      "source": [
        "# Generate the dataset on which we will test various models.\n",
        "\n",
        "m = 20\n",
        "factor = 1.0\n",
        "X = 6 * np.random.rand(m, 1) - 3\n",
        "y = 0.5 * X**2 + X + 2 + np.random.randn(m, 1)*factor"
      ],
      "execution_count": null,
      "outputs": []
    },
    {
      "cell_type": "code",
      "metadata": {
        "id": "NsSV2bnXnbGW",
        "colab_type": "code",
        "colab": {}
      },
      "source": [
        ""
      ],
      "execution_count": null,
      "outputs": []
    },
    {
      "cell_type": "markdown",
      "metadata": {
        "id": "05Ly4OJxnbGh",
        "colab_type": "text"
      },
      "source": [
        "$y = \\beta_{0} + \\beta_{1}*X$"
      ]
    },
    {
      "cell_type": "code",
      "metadata": {
        "id": "LX6y2rcInbGj",
        "colab_type": "code",
        "colab": {}
      },
      "source": [
        "# generate the polynomial features. In this case, since degree is 1, X_poly will be same as X.\n",
        "\n",
        "degree = 1\n",
        "poly_features = PolynomialFeatures(degree=degree, include_bias=True)\n",
        "X_poly = poly_features.fit_transform(X)"
      ],
      "execution_count": null,
      "outputs": []
    },
    {
      "cell_type": "code",
      "metadata": {
        "id": "shxjlcIPnbGu",
        "colab_type": "code",
        "colab": {}
      },
      "source": [
        "# Do the train/test split.\n",
        "\n",
        "from sklearn.model_selection import train_test_split\n",
        "X_train, X_test, y_train, y_test = train_test_split(X_poly, y, test_size=0.20, random_state=42)"
      ],
      "execution_count": null,
      "outputs": []
    },
    {
      "cell_type": "code",
      "metadata": {
        "id": "vdj8Ed8gnbG1",
        "colab_type": "code",
        "colab": {},
        "outputId": "f9e70652-34c4-493b-8f87-1927b53ba03c"
      },
      "source": [
        "# Train the model with the training set.\n",
        "\n",
        "lin_reg = LinearRegression()\n",
        "lin_reg.fit(X_train, y_train)"
      ],
      "execution_count": null,
      "outputs": [
        {
          "output_type": "execute_result",
          "data": {
            "text/plain": [
              "LinearRegression(copy_X=True, fit_intercept=True, n_jobs=None,\n",
              "         normalize=False)"
            ]
          },
          "metadata": {
            "tags": []
          },
          "execution_count": 5
        }
      ]
    },
    {
      "cell_type": "code",
      "metadata": {
        "id": "JxlNKlCcnbG9",
        "colab_type": "code",
        "colab": {},
        "outputId": "c9a6ecc7-e051-4c7c-a608-383bd63f8f80"
      },
      "source": [
        "# Compute the error metrics on the training set.\n",
        "y_train_hat = lin_reg.predict(X_train)\n",
        "\n",
        "#Regression Evaluation Metrics\n",
        "from sklearn import metrics\n",
        "\n",
        "print('MAE:', metrics.mean_absolute_error(y_train, y_train_hat))\n",
        "print('RMSE:', np.sqrt(metrics.mean_squared_error(y_train, y_train_hat)))\n",
        "print('R-squared:', metrics.r2_score(y_train, y_train_hat))"
      ],
      "execution_count": null,
      "outputs": [
        {
          "output_type": "stream",
          "text": [
            "MAE: 1.1542273095606363\n",
            "RMSE: 1.4934010143179992\n",
            "R-squared: 0.49476236205076163\n"
          ],
          "name": "stdout"
        }
      ]
    },
    {
      "cell_type": "code",
      "metadata": {
        "id": "-Bs8bVbmnbHE",
        "colab_type": "code",
        "colab": {},
        "outputId": "ddf32621-61ac-40ae-e1a6-3fb31a3c3d21"
      },
      "source": [
        "# Compute error metrics on the test set.\n",
        "y_test_hat = lin_reg.predict(X_test)\n",
        "\n",
        "print('MAE:', metrics.mean_absolute_error(y_test, y_test_hat))\n",
        "print('RMSE:', np.sqrt(metrics.mean_squared_error(y_test, y_test_hat)))\n",
        "print('R-squared:', metrics.r2_score(y_test, y_test_hat))"
      ],
      "execution_count": null,
      "outputs": [
        {
          "output_type": "stream",
          "text": [
            "MAE: 2.416535147659223\n",
            "RMSE: 2.4587481285902184\n",
            "R-squared: 0.4171962387639896\n"
          ],
          "name": "stdout"
        }
      ]
    },
    {
      "cell_type": "code",
      "metadata": {
        "id": "bgNhLzGPnbHK",
        "colab_type": "code",
        "colab": {}
      },
      "source": [
        ""
      ],
      "execution_count": null,
      "outputs": []
    },
    {
      "cell_type": "markdown",
      "metadata": {
        "id": "dfGmrLEfnbHT",
        "colab_type": "text"
      },
      "source": [
        "$y = \\beta_{0} + \\beta_{1}*X + \\beta_{2}* X^2 + ... + \\beta_{20}* X^{20}$"
      ]
    },
    {
      "cell_type": "code",
      "metadata": {
        "id": "zzhHZ4Q9nbHU",
        "colab_type": "code",
        "colab": {}
      },
      "source": [
        "degree = 20\n",
        "poly_features = PolynomialFeatures(degree=degree, include_bias=True)\n",
        "X_poly = poly_features.fit_transform(X)"
      ],
      "execution_count": null,
      "outputs": []
    },
    {
      "cell_type": "code",
      "metadata": {
        "id": "-U2nMYW8nbHY",
        "colab_type": "code",
        "colab": {}
      },
      "source": [
        "from sklearn.model_selection import train_test_split\n",
        "X_train, X_test, y_train, y_test = train_test_split(X_poly, y, test_size=0.20, random_state=42)"
      ],
      "execution_count": null,
      "outputs": []
    },
    {
      "cell_type": "code",
      "metadata": {
        "id": "iOgQzH4znbHc",
        "colab_type": "code",
        "colab": {},
        "outputId": "ad362667-562d-426d-f620-0f69656ac95e"
      },
      "source": [
        "lin_reg = LinearRegression()\n",
        "lin_reg.fit(X_train, y_train)"
      ],
      "execution_count": null,
      "outputs": [
        {
          "output_type": "execute_result",
          "data": {
            "text/plain": [
              "LinearRegression(copy_X=True, fit_intercept=True, n_jobs=None,\n",
              "         normalize=False)"
            ]
          },
          "metadata": {
            "tags": []
          },
          "execution_count": 10
        }
      ]
    },
    {
      "cell_type": "code",
      "metadata": {
        "id": "rZJhDfOJnbHg",
        "colab_type": "code",
        "colab": {},
        "outputId": "c04e5d19-8c9e-428b-d1e1-5ae5571e11f9"
      },
      "source": [
        "y_train_hat = lin_reg.predict(X_train)\n",
        "\n",
        "print('MAE:', metrics.mean_absolute_error(y_train, y_train_hat))\n",
        "print('RMSE:', np.sqrt(metrics.mean_squared_error(y_train, y_train_hat)))\n",
        "print('R-squared:', metrics.r2_score(y_train, y_train_hat))"
      ],
      "execution_count": null,
      "outputs": [
        {
          "output_type": "stream",
          "text": [
            "MAE: 1.6451780588816467e-06\n",
            "RMSE: 2.921170152467713e-06\n",
            "R-squared: 0.9999999999980669\n"
          ],
          "name": "stdout"
        }
      ]
    },
    {
      "cell_type": "code",
      "metadata": {
        "id": "fsO2jDDcnbHk",
        "colab_type": "code",
        "colab": {},
        "outputId": "6d0d83df-2458-4eb6-cc51-0eed8d17015b"
      },
      "source": [
        "y_test_hat = lin_reg.predict(X_test)\n",
        "\n",
        "print('MAE:', metrics.mean_absolute_error(y_test, y_test_hat))\n",
        "print('RMSE:', np.sqrt(metrics.mean_squared_error(y_test, y_test_hat)))\n",
        "print('R-squared:', metrics.r2_score(y_test, y_test_hat))"
      ],
      "execution_count": null,
      "outputs": [
        {
          "output_type": "stream",
          "text": [
            "MAE: 1403593.5287315045\n",
            "RMSE: 2807028.686442214\n",
            "R-squared: -759605259314.3168\n"
          ],
          "name": "stdout"
        }
      ]
    },
    {
      "cell_type": "code",
      "metadata": {
        "id": "yo9yCl-cnbHo",
        "colab_type": "code",
        "colab": {}
      },
      "source": [
        ""
      ],
      "execution_count": null,
      "outputs": []
    },
    {
      "cell_type": "markdown",
      "metadata": {
        "id": "LGDqruHRnbHs",
        "colab_type": "text"
      },
      "source": [
        "$y = \\beta_{0} + \\beta_{1}*X + \\beta_{2}*X^2$"
      ]
    },
    {
      "cell_type": "code",
      "metadata": {
        "id": "_nrT5WZgnbHt",
        "colab_type": "code",
        "colab": {}
      },
      "source": [
        "degree = 2\n",
        "poly_features = PolynomialFeatures(degree=degree, include_bias=True)\n",
        "X_poly = poly_features.fit_transform(X)"
      ],
      "execution_count": null,
      "outputs": []
    },
    {
      "cell_type": "code",
      "metadata": {
        "id": "nzL2Jy1wnbHw",
        "colab_type": "code",
        "colab": {}
      },
      "source": [
        "from sklearn.model_selection import train_test_split\n",
        "X_train, X_test, y_train, y_test = train_test_split(X_poly, y, test_size=0.20, random_state=42)"
      ],
      "execution_count": null,
      "outputs": []
    },
    {
      "cell_type": "code",
      "metadata": {
        "id": "ePBcQ7tUnbH0",
        "colab_type": "code",
        "colab": {},
        "outputId": "7a2ffe6e-73eb-49ed-dc69-1006c52ee23a"
      },
      "source": [
        "lin_reg = LinearRegression()\n",
        "lin_reg.fit(X_train, y_train)"
      ],
      "execution_count": null,
      "outputs": [
        {
          "output_type": "execute_result",
          "data": {
            "text/plain": [
              "LinearRegression(copy_X=True, fit_intercept=True, n_jobs=None,\n",
              "         normalize=False)"
            ]
          },
          "metadata": {
            "tags": []
          },
          "execution_count": 19
        }
      ]
    },
    {
      "cell_type": "code",
      "metadata": {
        "id": "-lIwR_MLnbH4",
        "colab_type": "code",
        "colab": {},
        "outputId": "02e8eb70-5d88-4d82-bf5a-d802817ba8b2"
      },
      "source": [
        "y_train_hat = lin_reg.predict(X_train)\n",
        "\n",
        "print('MAE:', metrics.mean_absolute_error(y_train, y_train_hat))\n",
        "print('RMSE:', np.sqrt(metrics.mean_squared_error(y_train, y_train_hat)))\n",
        "print('R-squared:', metrics.r2_score(y_train, y_train_hat))"
      ],
      "execution_count": null,
      "outputs": [
        {
          "output_type": "stream",
          "text": [
            "MAE: 0.6095683946400021\n",
            "RMSE: 0.7734581075259688\n",
            "R-squared: 0.8644759397446264\n"
          ],
          "name": "stdout"
        }
      ]
    },
    {
      "cell_type": "code",
      "metadata": {
        "id": "FSXxD-CInbH8",
        "colab_type": "code",
        "colab": {},
        "outputId": "ba4c8b9f-11ce-4719-b3ad-8c080f334532"
      },
      "source": [
        "y_test_hat = lin_reg.predict(X_test)\n",
        "\n",
        "print('MAE:', metrics.mean_absolute_error(y_test, y_test_hat))\n",
        "print('RMSE:', np.sqrt(metrics.mean_squared_error(y_test, y_test_hat)))\n",
        "print('R-squared:', metrics.r2_score(y_test, y_test_hat))"
      ],
      "execution_count": null,
      "outputs": [
        {
          "output_type": "stream",
          "text": [
            "MAE: 1.0631945784178296\n",
            "RMSE: 1.2178156394661737\n",
            "R-squared: 0.8570259053089068\n"
          ],
          "name": "stdout"
        }
      ]
    },
    {
      "cell_type": "code",
      "metadata": {
        "id": "QMsBsXlhnbIA",
        "colab_type": "code",
        "colab": {}
      },
      "source": [
        ""
      ],
      "execution_count": null,
      "outputs": []
    },
    {
      "cell_type": "code",
      "metadata": {
        "id": "UAx5wxGHnbIE",
        "colab_type": "code",
        "colab": {}
      },
      "source": [
        ""
      ],
      "execution_count": null,
      "outputs": []
    },
    {
      "cell_type": "code",
      "metadata": {
        "id": "73uEOu-jnbII",
        "colab_type": "code",
        "colab": {}
      },
      "source": [
        ""
      ],
      "execution_count": null,
      "outputs": []
    }
  ]
}