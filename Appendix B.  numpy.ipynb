{
 "cells": [
  {
   "cell_type": "code",
   "execution_count": 1,
   "metadata": {},
   "outputs": [],
   "source": [
    "import numpy as np"
   ]
  },
  {
   "cell_type": "code",
   "execution_count": 2,
   "metadata": {},
   "outputs": [
    {
     "name": "stdout",
     "output_type": "stream",
     "text": [
      "[1. 2. 3.]\n",
      "(3,)\n",
      "1.0\n"
     ]
    }
   ],
   "source": [
    "x = np.array([1, 2, 3], dtype='float32')\n",
    "print(x)\n",
    "print(x.shape)\n",
    "print(x[0])"
   ]
  },
  {
   "cell_type": "code",
   "execution_count": 3,
   "metadata": {},
   "outputs": [
    {
     "name": "stdout",
     "output_type": "stream",
     "text": [
      "[[1. 2. 3.]\n",
      " [4. 5. 6.]]\n",
      "(2, 3)\n",
      "5.0\n"
     ]
    }
   ],
   "source": [
    "z = np.array([[1,2,3], [4, 5, 6]], dtype='float32')\n",
    "print(z)\n",
    "print(z.shape)\n",
    "print(z[1, 1])"
   ]
  },
  {
   "cell_type": "code",
   "execution_count": 4,
   "metadata": {},
   "outputs": [
    {
     "name": "stdout",
     "output_type": "stream",
     "text": [
      "[[1. 2. 3.]]\n",
      "(1, 3)\n",
      "2.0\n"
     ]
    }
   ],
   "source": [
    "y = np.array([[1, 2, 3]], dtype='float32')\n",
    "print(y)\n",
    "print(y.shape)\n",
    "print(y[0, 1])"
   ]
  },
  {
   "cell_type": "code",
   "execution_count": 5,
   "metadata": {},
   "outputs": [
    {
     "name": "stdout",
     "output_type": "stream",
     "text": [
      "[[[ 1.  2.  3.]\n",
      "  [ 4.  5.  6.]]\n",
      "\n",
      " [[11. 12. 13.]\n",
      "  [14. 15. 16.]]\n",
      "\n",
      " [[21. 22. 23.]\n",
      "  [24. 25. 26.]]]\n",
      "\n",
      "Shape: (3, 2, 3)\n",
      "\n",
      "Array element: 22.0\n"
     ]
    }
   ],
   "source": [
    "w = np.array([[[1,2,3], [4, 5, 6]],\n",
    "              [[11,12,13], [14, 15, 16]],\n",
    "              [[21,22,23], [24, 25, 26]]]\n",
    "             , dtype='float32')\n",
    "print(w)\n",
    "print()\n",
    "print(\"Shape:\", w.shape)\n",
    "print()\n",
    "print(\"Array element:\", w[2, 0, 1])"
   ]
  },
  {
   "cell_type": "code",
   "execution_count": 6,
   "metadata": {},
   "outputs": [
    {
     "name": "stdout",
     "output_type": "stream",
     "text": [
      "(9,)\n",
      "[-2.  -1.5 -1.  -0.5  0.   0.5  1.   1.5  2. ]\n"
     ]
    }
   ],
   "source": [
    "x = np.linspace(-2, 2, 9)\n",
    "print(x.shape)\n",
    "print(x)"
   ]
  },
  {
   "cell_type": "code",
   "execution_count": 7,
   "metadata": {},
   "outputs": [
    {
     "name": "stdout",
     "output_type": "stream",
     "text": [
      "(10000,)\n",
      "[ 52.10938688   8.06713821  28.98639282 129.32024708 -11.10669535\n",
      "  -8.91538551  31.09720306 -40.51974123  65.43199231 -58.2162403 ]\n"
     ]
    }
   ],
   "source": [
    "x = np.random.normal(10, 90, 10000)\n",
    "print(x.shape)\n",
    "print(x[0:10])"
   ]
  },
  {
   "cell_type": "code",
   "execution_count": 8,
   "metadata": {},
   "outputs": [
    {
     "name": "stdout",
     "output_type": "stream",
     "text": [
      "[[0. 0. 0.]\n",
      " [0. 0. 0.]]\n"
     ]
    }
   ],
   "source": [
    "shape = (2, 3)\n",
    "x = np.zeros(shape, dtype = 'float32')\n",
    "print(x)"
   ]
  },
  {
   "cell_type": "code",
   "execution_count": 9,
   "metadata": {},
   "outputs": [
    {
     "name": "stdout",
     "output_type": "stream",
     "text": [
      "[[1. 1.]\n",
      " [1. 1.]\n",
      " [1. 1.]]\n"
     ]
    }
   ],
   "source": [
    "shape = (3, 2)\n",
    "y = np.ones(shape, dtype = 'float32')\n",
    "print(y)"
   ]
  },
  {
   "cell_type": "code",
   "execution_count": 10,
   "metadata": {},
   "outputs": [
    {
     "name": "stdout",
     "output_type": "stream",
     "text": [
      "3 2 3\n"
     ]
    }
   ],
   "source": [
    "w = np.array([[[1,2,3], [4, 5, 6]],\n",
    "              [[11,12,13], [14, 15, 16]],\n",
    "              [[21,22,23], [24, 25, 26]]]\n",
    "             , dtype='float32')\n",
    "print(w.shape[0], w.shape[1], w.shape[2])"
   ]
  },
  {
   "cell_type": "code",
   "execution_count": 11,
   "metadata": {},
   "outputs": [
    {
     "name": "stdout",
     "output_type": "stream",
     "text": [
      "[[1. 2. 3.]]\n",
      "(1, 3)\n",
      "2.0\n"
     ]
    }
   ],
   "source": [
    "y = np.array([[1, 2, 3]], dtype='float32')\n",
    "print(y)\n",
    "print(y.shape)\n",
    "print(y[0, 1])"
   ]
  },
  {
   "cell_type": "code",
   "execution_count": 12,
   "metadata": {},
   "outputs": [
    {
     "name": "stdout",
     "output_type": "stream",
     "text": [
      "[1. 2. 3.]\n",
      "(3,)\n",
      "2.0\n"
     ]
    }
   ],
   "source": [
    "y1D = y.ravel()\n",
    "print(y1D)\n",
    "print(y1D.shape)\n",
    "print(y1D[1])"
   ]
  },
  {
   "cell_type": "code",
   "execution_count": 13,
   "metadata": {},
   "outputs": [
    {
     "name": "stdout",
     "output_type": "stream",
     "text": [
      "[1. 2. 3.]\n",
      "(3,)\n",
      "2.0\n"
     ]
    }
   ],
   "source": [
    "y1Dv2 = y.reshape(3,)\n",
    "print(y1Dv2)\n",
    "print(y1Dv2.shape)\n",
    "print(y1Dv2[1])"
   ]
  },
  {
   "cell_type": "code",
   "execution_count": 14,
   "metadata": {},
   "outputs": [
    {
     "name": "stdout",
     "output_type": "stream",
     "text": [
      "[[ 8. 10. 12.]\n",
      " [14. 16. 18.]]\n"
     ]
    }
   ],
   "source": [
    "z1 = np.array([[1,2,3], [4, 5, 6]], dtype='float32')\n",
    "z2 = np.array([[7,8,9], [10, 11, 12]], dtype='float32')\n",
    "z = z1 + z2\n",
    "print(z)"
   ]
  },
  {
   "cell_type": "code",
   "execution_count": 15,
   "metadata": {},
   "outputs": [
    {
     "name": "stdout",
     "output_type": "stream",
     "text": [
      "[[1.        1.4142135 1.7320508]\n",
      " [2.        2.236068  2.4494898]]\n"
     ]
    }
   ],
   "source": [
    "z = np.sqrt(z1)\n",
    "print(z)"
   ]
  },
  {
   "cell_type": "code",
   "execution_count": 16,
   "metadata": {},
   "outputs": [
    {
     "name": "stdout",
     "output_type": "stream",
     "text": [
      "7.0\n",
      "57.0\n",
      "9.5\n"
     ]
    }
   ],
   "source": [
    "print(z2.min())\n",
    "print(z2.sum())\n",
    "print(z2.mean())"
   ]
  },
  {
   "cell_type": "code",
   "execution_count": 17,
   "metadata": {},
   "outputs": [
    {
     "name": "stdout",
     "output_type": "stream",
     "text": [
      "[24. 33.]\n"
     ]
    }
   ],
   "source": [
    "z2 = np.array([[7,8,9], [10, 11, 12]], dtype='float32')\n",
    "print(np.sum(z2, axis=1))"
   ]
  },
  {
   "cell_type": "code",
   "execution_count": 18,
   "metadata": {},
   "outputs": [
    {
     "name": "stdout",
     "output_type": "stream",
     "text": [
      "(2, 3) (3, 4)\n",
      "(2, 4)\n"
     ]
    }
   ],
   "source": [
    "z1 = np.array([[1,2,3], [4, 5, 6]], dtype='float32')\n",
    "z2 = np.array([[1,2, 3, 4], [5, 6, 7, 8], [9, 10, 11, 12]], dtype='float32')\n",
    "z = np.matmul(z1, z2)\n",
    "print(z1.shape, z2.shape)\n",
    "print(z.shape)"
   ]
  },
  {
   "cell_type": "code",
   "execution_count": 19,
   "metadata": {},
   "outputs": [
    {
     "name": "stdout",
     "output_type": "stream",
     "text": [
      "[[1. 0.]\n",
      " [0. 1.]]\n"
     ]
    }
   ],
   "source": [
    "z = np.array([[1,2], [3, 4]], dtype='float32')\n",
    "zinv = np.linalg.inv(z)\n",
    "id = np.matmul(z, zinv)\n",
    "print(id)"
   ]
  },
  {
   "cell_type": "code",
   "execution_count": null,
   "metadata": {},
   "outputs": [],
   "source": []
  }
 ],
 "metadata": {
  "kernelspec": {
   "display_name": "Python 3",
   "language": "python",
   "name": "python3"
  },
  "language_info": {
   "codemirror_mode": {
    "name": "ipython",
    "version": 3
   },
   "file_extension": ".py",
   "mimetype": "text/x-python",
   "name": "python",
   "nbconvert_exporter": "python",
   "pygments_lexer": "ipython3",
   "version": "3.7.3"
  }
 },
 "nbformat": 4,
 "nbformat_minor": 2
}
