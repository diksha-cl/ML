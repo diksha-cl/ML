{
 "cells": [
  {
   "cell_type": "markdown",
   "metadata": {},
   "source": [
    "### Distributions: Plotting histogram"
   ]
  },
  {
   "cell_type": "code",
   "execution_count": 1,
   "metadata": {},
   "outputs": [
    {
     "data": {
      "image/png": "[encoded data removed]",
      "text/plain": [
       "<Figure size 432x288 with 1 Axes>"
      ]
     },
     "metadata": {
      "needs_background": "light"
     },
     "output_type": "display_data"
    }
   ],
   "source": [
    "import matplotlib.pyplot as plt\n",
    "%matplotlib inline\n",
    "\n",
    "sampleData = [1,1,2,3,3,5,7,8,9,\n",
    "              10,10,11,11,13,13,15,16,17,18,18,18,19,\n",
    "              20,21,21,23,24,24,25,25,25,25,26,26,26,27,27,27,27,27,29,\n",
    "              30,30,31,33,34,34,34,35,36,36,37,37,38,38,39,\n",
    "              40,41,41,42,43,44,45,45,46,47,48,48,49,\n",
    "              50,51,52,53,54,55,55,56,57,58,\n",
    "              60,61,63,64,65,66,68,\n",
    "              70,71,72,74,75,77,81,83,84,87,89,\n",
    "              90,90,91]\n",
    "\n",
    "plt.hist(sampleData, bins=[0,10,20,30,40,50,60,70,80,90,100])\n",
    "plt.show()"
   ]
  },
  {
   "cell_type": "markdown",
   "metadata": {},
   "source": [
    "### Measures of central tendency"
   ]
  },
  {
   "cell_type": "code",
   "execution_count": 2,
   "metadata": {},
   "outputs": [
    {
     "name": "stdout",
     "output_type": "stream",
     "text": [
      "Mean: 39.26\n",
      "Median: 36.0\n",
      "Mode: 27\n"
     ]
    }
   ],
   "source": [
    "import numpy as np\n",
    "from scipy import stats\n",
    "\n",
    "sampleMean = np.mean(sampleData)\n",
    "sampleMedian = np.median(sampleData)\n",
    "sampleMode = stats.mode(sampleData)\n",
    "\n",
    "print(\"Mean:\", sampleMean)\n",
    "print(\"Median:\", sampleMedian)\n",
    "print(\"Mode:\", sampleMode[0][0])"
   ]
  },
  {
   "cell_type": "markdown",
   "metadata": {},
   "source": [
    "### Dispersion of a distribution"
   ]
  },
  {
   "cell_type": "code",
   "execution_count": 3,
   "metadata": {},
   "outputs": [
    {
     "name": "stdout",
     "output_type": "stream",
     "text": [
      "Sample SD: 23.719156474006066\n"
     ]
    }
   ],
   "source": [
    "sampleSD = np.std(sampleData, ddof=1)\n",
    "print(\"Sample SD:\", sampleSD)"
   ]
  },
  {
   "cell_type": "code",
   "execution_count": 4,
   "metadata": {},
   "outputs": [],
   "source": [
    "bunchedUpData = [21, 22, 23, 24, 25, 27, 29, 29, \n",
    "              31,33,34,34,34,35,36,36,37,37,38,38,39,40,\n",
    "              41,41,42,43,44,45,45,46,47,48,48,49,50,\n",
    "              51,52,53,54,55,55,56,57,58,60,\n",
    "              61,63,64,65,66,68,70,\n",
    "              71]"
   ]
  },
  {
   "cell_type": "code",
   "execution_count": 5,
   "metadata": {},
   "outputs": [
    {
     "data": {
      "text/plain": [
       "(array([ 6.,  4., 11.,  8.,  8.,  7.,  4.,  5.]),\n",
       " array([21.  , 27.25, 33.5 , 39.75, 46.  , 52.25, 58.5 , 64.75, 71.  ]),\n",
       " <a list of 8 Patch objects>)"
      ]
     },
     "execution_count": 5,
     "metadata": {},
     "output_type": "execute_result"
    },
    {
     "data": {
      "image/png": "[encoded data removed]",
      "text/plain": [
       "<Figure size 432x288 with 1 Axes>"
      ]
     },
     "metadata": {
      "needs_background": "light"
     },
     "output_type": "display_data"
    }
   ],
   "source": [
    "plt.hist(bunchedUpData, bins=8)"
   ]
  },
  {
   "cell_type": "code",
   "execution_count": 6,
   "metadata": {},
   "outputs": [
    {
     "name": "stdout",
     "output_type": "stream",
     "text": [
      "Sample SD: 13.39112415355003\n"
     ]
    }
   ],
   "source": [
    "sampleSD = np.std(bunchedUpData, ddof=1)\n",
    "print(\"Sample SD:\", sampleSD)"
   ]
  },
  {
   "cell_type": "code",
   "execution_count": null,
   "metadata": {},
   "outputs": [],
   "source": []
  },
  {
   "cell_type": "code",
   "execution_count": 7,
   "metadata": {},
   "outputs": [],
   "source": [
    "# Fixing random state for reproducibility\n",
    "np.random.seed(19680801)\n",
    "\n",
    "# fake up some data\n",
    "spread = np.random.rand(100) * 100\n",
    "center = np.ones(25) * 50\n",
    "flier_high = np.random.rand(10) * 100 + 100\n",
    "flier_low = np.random.rand(10) * -100"
   ]
  },
  {
   "cell_type": "code",
   "execution_count": 8,
   "metadata": {},
   "outputs": [
    {
     "data": {
      "image/png": "[encoded data removed]",
      "text/plain": [
       "<Figure size 432x288 with 1 Axes>"
      ]
     },
     "metadata": {
      "needs_background": "light"
     },
     "output_type": "display_data"
    }
   ],
   "source": [
    "data = np.concatenate((spread, center, flier_high, flier_low))\n",
    "plt.hist(data, bins=20)\n",
    "plt.show()"
   ]
  },
  {
   "cell_type": "code",
   "execution_count": 9,
   "metadata": {},
   "outputs": [],
   "source": [
    "import matplotlib.pyplot as plt\n",
    "import numpy as np\n",
    "\n",
    "# https://stackoverflow.com/questions/55648729/\n",
    "# python-how-to-print-the-box-whiskers-and-outlier-values-in-box-and-whisker-plo\n",
    "\n",
    "def make_labels(ax, boxplot):\n",
    "\n",
    "    # Grab the relevant Line2D instances from the boxplot dictionary\n",
    "    iqr = boxplot['boxes'][0]\n",
    "    caps = boxplot['caps']\n",
    "    med = boxplot['medians'][0]\n",
    "    # fly = boxplot['fliers'][0]\n",
    "\n",
    "    # The x position of the median line\n",
    "    xpos = med.get_xdata()\n",
    "\n",
    "    # Lets make the text have a horizontal offset which is some \n",
    "    # fraction of the width of the box\n",
    "    xoff = 0.10 * (xpos[1] - xpos[0])\n",
    "\n",
    "    # The x position of the labels\n",
    "    xlabel = xpos[1] + xoff\n",
    "\n",
    "    # The median is the y-position of the median line\n",
    "    median = med.get_ydata()[1]\n",
    "\n",
    "    # The 25th and 75th percentiles are found from the\n",
    "    # top and bottom (max and min) of the box\n",
    "    pc25 = iqr.get_ydata().min()\n",
    "    pc75 = iqr.get_ydata().max()\n",
    "\n",
    "    # The caps give the vertical position of the ends of the whiskers\n",
    "    capbottom = caps[0].get_ydata()[0]\n",
    "    captop = caps[1].get_ydata()[0]\n",
    "\n",
    "    # Make some labels on the figure using the values derived above\n",
    "    ax.text(xlabel, median,\n",
    "            'Median = {:6.3g}'.format(median), va='center')\n",
    "    ax.text(xlabel, pc25,\n",
    "            '25th percentile = {:6.3g}'.format(pc25), va='center')\n",
    "    ax.text(xlabel, pc75,\n",
    "            '75th percentile = {:6.3g}'.format(pc75), va='center')\n",
    "    ax.text(xlabel, capbottom,\n",
    "            'Bottom cap = {:6.3g}'.format(capbottom), va='center')\n",
    "    ax.text(xlabel, captop,\n",
    "            'Top cap = {:6.3g}'.format(captop), va='center')"
   ]
  },
  {
   "cell_type": "code",
   "execution_count": 10,
   "metadata": {},
   "outputs": [
    {
     "data": {
      "image/png": "[encoded data removed]",
      "text/plain": [
       "<Figure size 432x288 with 1 Axes>"
      ]
     },
     "metadata": {
      "needs_background": "light"
     },
     "output_type": "display_data"
    }
   ],
   "source": [
    "# Make the figure\n",
    "red_diamond = dict(markerfacecolor='r', marker='D')\n",
    "_, ax3 = plt.subplots()\n",
    "ax3.set_title('Changed Outlier Symbols')\n",
    "\n",
    "# Create the boxplot and store the resulting python dictionary\n",
    "my_boxes = ax3.boxplot(data, flierprops=red_diamond)\n",
    "\n",
    "# Call the function to make labels\n",
    "make_labels(ax3, my_boxes)\n",
    "\n",
    "plt.show()\n"
   ]
  },
  {
   "cell_type": "code",
   "execution_count": null,
   "metadata": {},
   "outputs": [],
   "source": []
  },
  {
   "cell_type": "code",
   "execution_count": null,
   "metadata": {},
   "outputs": [],
   "source": []
  },
  {
   "cell_type": "markdown",
   "metadata": {},
   "source": [
    "### Probability Distributions and Random Sampling"
   ]
  },
  {
   "cell_type": "code",
   "execution_count": 11,
   "metadata": {},
   "outputs": [
    {
     "data": {
      "image/png": "[encoded data removed]",
      "text/plain": [
       "<Figure size 432x288 with 1 Axes>"
      ]
     },
     "metadata": {
      "needs_background": "light"
     },
     "output_type": "display_data"
    }
   ],
   "source": [
    "xn = np.random.normal(45, 10, 100000)\n",
    "\n",
    "plt.hist(xn, bins=100)\n",
    "plt.show()"
   ]
  },
  {
   "cell_type": "code",
   "execution_count": 12,
   "metadata": {},
   "outputs": [
    {
     "data": {
      "image/png": "[encoded data removed]",
      "text/plain": [
       "<Figure size 432x288 with 1 Axes>"
      ]
     },
     "metadata": {
      "needs_background": "light"
     },
     "output_type": "display_data"
    }
   ],
   "source": [
    "import numpy as np\n",
    "import matplotlib.pyplot as plt\n",
    "%matplotlib inline\n",
    "\n",
    "np.random.seed(10)\n",
    "xu = np.random.uniform(10,100,100000)\n",
    "\n",
    "plt.hist(xu, bins=100)\n",
    "plt.show()"
   ]
  },
  {
   "cell_type": "code",
   "execution_count": null,
   "metadata": {},
   "outputs": [],
   "source": []
  },
  {
   "cell_type": "code",
   "execution_count": null,
   "metadata": {},
   "outputs": [],
   "source": []
  },
  {
   "cell_type": "markdown",
   "metadata": {},
   "source": [
    "### Correlations"
   ]
  },
  {
   "cell_type": "markdown",
   "metadata": {},
   "source": [
    "Pearson's Correlation Coefficient for Sample Populations:\n",
    "\n",
    "$r_{xy} = \\frac{\\sum_{i=1}^{n}(x_i - \\bar{x})(y_i - \\bar{y})}{(n-1)s_x s_y}$ <br>\n",
    "$\\quad = \\frac{\n",
    "              \\sum_{i=1}^{n}(x_i - \\bar{x})(y_i - \\bar{y})\n",
    "              } \n",
    "              {\n",
    "              \\sqrt{ \n",
    "                    \\sum_{i=1}^{n}(x_i - \\bar{x})^2 \\sum_{i=1}^{n}(y_i - \\bar{y})^2\n",
    "                    }\n",
    "              }\n",
    "$"
   ]
  },
  {
   "cell_type": "code",
   "execution_count": 35,
   "metadata": {},
   "outputs": [],
   "source": [
    "# I want a line. y = 10*x + 3\n",
    "\n",
    "import numpy as np\n",
    "import matplotlib.pyplot as plt\n",
    "\n",
    "np.random.seed(42)\n",
    "\n",
    "x = np.random.uniform(-10, 10, 100)\n",
    "y = 10*x + 3"
   ]
  },
  {
   "cell_type": "code",
   "execution_count": 36,
   "metadata": {},
   "outputs": [
    {
     "data": {
      "image/png": "[encoded data removed]",
      "text/plain": [
       "<Figure size 432x432 with 1 Axes>"
      ]
     },
     "metadata": {
      "needs_background": "light"
     },
     "output_type": "display_data"
    }
   ],
   "source": [
    "plt.figure(figsize=(6,6))\n",
    "plt.scatter(x, y, label=\"y=10x+3\")\n",
    "plt.legend()\n",
    "plt.show()"
   ]
  },
  {
   "cell_type": "code",
   "execution_count": 15,
   "metadata": {},
   "outputs": [
    {
     "name": "stdout",
     "output_type": "stream",
     "text": [
      "PCC: 0.9999999999999998\n",
      "p-value: 0.0\n"
     ]
    }
   ],
   "source": [
    "from scipy import stats\n",
    "(corr, p) = stats.pearsonr(x, y)\n",
    "print(\"PCC:\", corr)\n",
    "print(\"p-value:\", p)"
   ]
  },
  {
   "cell_type": "code",
   "execution_count": null,
   "metadata": {},
   "outputs": [],
   "source": []
  },
  {
   "cell_type": "code",
   "execution_count": 16,
   "metadata": {},
   "outputs": [],
   "source": [
    "# I want a line with negative slope. y = -10*x + 3\n",
    "\n",
    "x = np.random.uniform(-10, 10, 100)\n",
    "y = -10*x + 3"
   ]
  },
  {
   "cell_type": "code",
   "execution_count": 17,
   "metadata": {},
   "outputs": [
    {
     "data": {
      "text/plain": [
       "<matplotlib.collections.PathCollection at 0x19aac65f6a0>"
      ]
     },
     "execution_count": 17,
     "metadata": {},
     "output_type": "execute_result"
    },
    {
     "data": {
      "image/png": "[encoded data removed]",
      "text/plain": [
       "<Figure size 432x432 with 1 Axes>"
      ]
     },
     "metadata": {
      "needs_background": "light"
     },
     "output_type": "display_data"
    }
   ],
   "source": [
    "plt.figure(figsize=(6,6))\n",
    "plt.scatter(x, y)"
   ]
  },
  {
   "cell_type": "code",
   "execution_count": 18,
   "metadata": {},
   "outputs": [
    {
     "name": "stdout",
     "output_type": "stream",
     "text": [
      "PCC: -0.9999999999999998\n",
      "p-value: 0.0\n"
     ]
    }
   ],
   "source": [
    "(corr, p) = stats.pearsonr(x, y)\n",
    "print(\"PCC:\", corr)\n",
    "print(\"p-value:\", p)"
   ]
  },
  {
   "cell_type": "code",
   "execution_count": null,
   "metadata": {},
   "outputs": [],
   "source": []
  },
  {
   "cell_type": "code",
   "execution_count": 38,
   "metadata": {},
   "outputs": [],
   "source": [
    "# A half parabola.\n",
    "\n",
    "x = np.random.uniform(0, 10, 500)\n",
    "y = np.random.uniform(-5, 5, 500)"
   ]
  },
  {
   "cell_type": "code",
   "execution_count": 40,
   "metadata": {},
   "outputs": [
    {
     "data": {
      "image/png": "[encoded data removed]",
      "text/plain": [
       "<Figure size 432x432 with 1 Axes>"
      ]
     },
     "metadata": {
      "needs_background": "light"
     },
     "output_type": "display_data"
    }
   ],
   "source": [
    "plt.figure(figsize=(6,6))\n",
    "plt.scatter(x, y, label=\"x=rand(0,10), y=rand(-5,5)\")\n",
    "plt.legend()\n",
    "plt.show()"
   ]
  },
  {
   "cell_type": "code",
   "execution_count": 33,
   "metadata": {},
   "outputs": [
    {
     "name": "stdout",
     "output_type": "stream",
     "text": [
      "PCC: -0.04030446962847961\n",
      "p-value: 0.368468859153506\n"
     ]
    }
   ],
   "source": [
    "(corr, p) = stats.pearsonr(x, y)\n",
    "print(\"PCC:\", corr)\n",
    "print(\"p-value:\", p)"
   ]
  },
  {
   "cell_type": "code",
   "execution_count": null,
   "metadata": {},
   "outputs": [],
   "source": []
  },
  {
   "cell_type": "code",
   "execution_count": 55,
   "metadata": {},
   "outputs": [
    {
     "data": {
      "image/png": "[encoded data removed]",
      "text/plain": [
       "<Figure size 432x432 with 1 Axes>"
      ]
     },
     "metadata": {
      "needs_background": "light"
     },
     "output_type": "display_data"
    }
   ],
   "source": [
    "# We want a circle. x^2 + y^2 = 100.\n",
    "x = np.random.uniform(-10, 10, 100)\n",
    "yplus = np.sqrt(100 - x*x)\n",
    "yminus = -np.sqrt(100 - x*x)\n",
    "\n",
    "X = list(x) + list(x)\n",
    "Y = list(yplus) + list(yminus)\n",
    "\n",
    "plt.figure(figsize=(6,6))\n",
    "plt.scatter(X, Y, label='x^2 + y^2 = 100')\n",
    "plt.legend(loc='center')\n",
    "plt.show()"
   ]
  },
  {
   "cell_type": "code",
   "execution_count": 56,
   "metadata": {},
   "outputs": [
    {
     "name": "stdout",
     "output_type": "stream",
     "text": [
      "PCC: 0.0\n"
     ]
    }
   ],
   "source": [
    "(corr, _) = stats.pearsonr(X, Y)\n",
    "print(\"PCC:\", corr)"
   ]
  },
  {
   "cell_type": "code",
   "execution_count": null,
   "metadata": {},
   "outputs": [],
   "source": []
  },
  {
   "cell_type": "code",
   "execution_count": 1,
   "metadata": {},
   "outputs": [
    {
     "data": {
      "image/png": "[encoded data removed]",
      "text/plain": [
       "<Figure size 432x288 with 1 Axes>"
      ]
     },
     "metadata": {
      "needs_background": "light"
     },
     "output_type": "display_data"
    }
   ],
   "source": [
    "import matplotlib.pyplot as plt\n",
    "%matplotlib inline\n",
    "import numpy as np\n",
    "\n",
    "xn = np.random.normal(45, 10, 100000)\n",
    "\n",
    "plt.hist(xn, bins=100)\n",
    "plt.show()"
   ]
  },
  {
   "cell_type": "code",
   "execution_count": 11,
   "metadata": {},
   "outputs": [
    {
     "data": {
      "image/png": "[encoded data removed]",
      "text/plain": [
       "<Figure size 432x288 with 1 Axes>"
      ]
     },
     "metadata": {
      "needs_background": "light"
     },
     "output_type": "display_data"
    }
   ],
   "source": [
    "xnsrtd = np.sort(xn)\n",
    "xnsrtds = xns[0:10000]\n",
    "plt.hist(xnsrtds, bins=100)\n",
    "plt.show()"
   ]
  },
  {
   "cell_type": "code",
   "execution_count": 12,
   "metadata": {},
   "outputs": [
    {
     "data": {
      "image/png": "[encoded data removed]",
      "text/plain": [
       "<Figure size 432x288 with 1 Axes>"
      ]
     },
     "metadata": {
      "needs_background": "light"
     },
     "output_type": "display_data"
    }
   ],
   "source": [
    "xns = xn[0:10000]\n",
    "plt.hist(xns, bins=100)\n",
    "plt.show()"
   ]
  },
  {
   "cell_type": "code",
   "execution_count": 14,
   "metadata": {},
   "outputs": [
    {
     "data": {
      "image/png": "[encoded data removed]",
      "text/plain": [
       "<Figure size 432x288 with 1 Axes>"
      ]
     },
     "metadata": {
      "needs_background": "light"
     },
     "output_type": "display_data"
    }
   ],
   "source": [
    "import random\n",
    "\n",
    "nrandSamp = random.sample(list(xnsrtd), 1000)\n",
    "\n",
    "plt.hist(nrandSamp, bins=100)\n",
    "plt.show()"
   ]
  },
  {
   "cell_type": "code",
   "execution_count": 15,
   "metadata": {},
   "outputs": [
    {
     "data": {
      "image/png": "[encoded data removed]",
      "text/plain": [
       "<Figure size 432x288 with 1 Axes>"
      ]
     },
     "metadata": {
      "needs_background": "light"
     },
     "output_type": "display_data"
    }
   ],
   "source": [
    "nrandSamp = random.sample(list(xnsrtd), 10000)\n",
    "\n",
    "plt.hist(nrandSamp, bins=100)\n",
    "plt.show()"
   ]
  },
  {
   "cell_type": "code",
   "execution_count": null,
   "metadata": {},
   "outputs": [],
   "source": []
  }
 ],
 "metadata": {
  "kernelspec": {
   "display_name": "Python 3",
   "language": "python",
   "name": "python3"
  },
  "language_info": {
   "codemirror_mode": {
    "name": "ipython",
    "version": 3
   },
   "file_extension": ".py",
   "mimetype": "text/x-python",
   "name": "python",
   "nbconvert_exporter": "python",
   "pygments_lexer": "ipython3",
   "version": "3.7.3"
  }
 },
 "nbformat": 4,
 "nbformat_minor": 2
}
